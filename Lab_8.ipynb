{
  "nbformat": 4,
  "nbformat_minor": 0,
  "metadata": {
    "colab": {
      "provenance": [],
      "authorship_tag": "ABX9TyMhZKfyDLL31Oe904sgdIiA",
      "include_colab_link": true
    },
    "kernelspec": {
      "name": "python3",
      "display_name": "Python 3"
    },
    "language_info": {
      "name": "python"
    }
  },
  "cells": [
    {
      "cell_type": "markdown",
      "metadata": {
        "id": "view-in-github",
        "colab_type": "text"
      },
      "source": [
        "<a href=\"https://colab.research.google.com/github/mimrancomsats/ProgrammingforAI_FALL24/blob/main/Lab_8.ipynb\" target=\"_parent\"><img src=\"https://colab.research.google.com/assets/colab-badge.svg\" alt=\"Open In Colab\"/></a>"
      ]
    },
    {
      "cell_type": "markdown",
      "source": [
        "# **Column Transformer**"
      ],
      "metadata": {
        "id": "FbORs_SNsdZL"
      }
    },
    {
      "cell_type": "code",
      "source": [
        "import pandas as pd\n",
        "from sklearn.compose import ColumnTransformer\n",
        "from sklearn.impute import SimpleImputer\n",
        "from sklearn.preprocessing import OneHotEncoder\n",
        "\n",
        "# Sample DataFrame\n",
        "data = pd.DataFrame({\n",
        "    'Age': [22, None, 24, 22, None, 24],\n",
        "    'Sex': ['male', 'female', 'female','male', 'female', 'female'],\n",
        "    'Embarked': ['B', 'B', 'C', 'C', 'C','S'],\n",
        "    'Fare': [7.25, 71.83, 8.05,7.25, 71.83, 8.05]\n",
        "})\n",
        "\n",
        "print(\"Original DataFrame:\")\n",
        "print(data)\n",
        "\n",
        "# Define ColumnTransformer\n",
        "preprocessor = ColumnTransformer(transformers=[\n",
        "    ('age_imputer', SimpleImputer(strategy='mean'), ['Age']),\n",
        "    ('ohe', OneHotEncoder(), ['Sex','Embarked'])\n",
        "], remainder='passthrough')  # Pass through other columns like 'Fare'\n",
        "\n",
        "# Transform the data\n",
        "transformed_data = preprocessor.fit_transform(data)\n",
        "\n",
        "# Output shape and transformed data\n",
        "print(\"\\nTransformed Data Shape:\")\n",
        "print(transformed_data.shape)\n",
        "print(transformed_data)\n",
        "\n",
        "\n",
        "transformed_df = pd.DataFrame(transformed_data)\n",
        "print(\"\\nTransformed DataFrame:\")\n",
        "print(transformed_df)"
      ],
      "metadata": {
        "colab": {
          "base_uri": "https://localhost:8080/"
        },
        "id": "hP0lcYPxBSnx",
        "outputId": "ce39c6c4-9ee0-4b45-ed8c-bd8b8299f318"
      },
      "execution_count": 5,
      "outputs": [
        {
          "output_type": "stream",
          "name": "stdout",
          "text": [
            "Original DataFrame:\n",
            "    Age     Sex Embarked   Fare\n",
            "0  22.0    male        B   7.25\n",
            "1   NaN  female        B  71.83\n",
            "2  24.0  female        C   8.05\n",
            "3  22.0    male        C   7.25\n",
            "4   NaN  female        C  71.83\n",
            "5  24.0  female        S   8.05\n",
            "\n",
            "Transformed Data Shape:\n",
            "(6, 7)\n",
            "[[22.    0.    1.    1.    0.    0.    7.25]\n",
            " [23.    1.    0.    1.    0.    0.   71.83]\n",
            " [24.    1.    0.    0.    1.    0.    8.05]\n",
            " [22.    0.    1.    0.    1.    0.    7.25]\n",
            " [23.    1.    0.    0.    1.    0.   71.83]\n",
            " [24.    1.    0.    0.    0.    1.    8.05]]\n",
            "\n",
            "Transformed DataFrame:\n",
            "      0    1    2    3    4    5      6\n",
            "0  22.0  0.0  1.0  1.0  0.0  0.0   7.25\n",
            "1  23.0  1.0  0.0  1.0  0.0  0.0  71.83\n",
            "2  24.0  1.0  0.0  0.0  1.0  0.0   8.05\n",
            "3  22.0  0.0  1.0  0.0  1.0  0.0   7.25\n",
            "4  23.0  1.0  0.0  0.0  1.0  0.0  71.83\n",
            "5  24.0  1.0  0.0  0.0  0.0  1.0   8.05\n"
          ]
        }
      ]
    },
    {
      "cell_type": "markdown",
      "source": [
        "# **Function Transfomer**"
      ],
      "metadata": {
        "id": "na1w-sVcsBQK"
      }
    },
    {
      "cell_type": "code",
      "source": [
        "import pandas as pd\n",
        "from sklearn.compose import ColumnTransformer\n",
        "from sklearn.impute import SimpleImputer\n",
        "from sklearn.preprocessing import FunctionTransformer, OneHotEncoder\n",
        "from sklearn.pipeline import Pipeline\n",
        "\n",
        "# Sample DataFrame\n",
        "data = pd.DataFrame({\n",
        "    'Age': [22, None, 24,22, None, 24],\n",
        "    'Sex': ['male', 'female', 'female','male', 'female', 'female'],\n",
        "    'Embarked': ['B', 'B', 'C', None, 'C','S'],\n",
        "    'Fare': [7.25, 71.83, 8.05,7.25, 71.83, 8.05]\n",
        "})\n",
        "\n",
        "print(\"Original DataFrame:\")\n",
        "print(data)\n",
        "\n",
        "# Custom function to impute 'Embarked'\n",
        "def impute_embarked(X):\n",
        "    X['Embarked'] = X['Embarked'].fillna(X['Embarked'].mode()[0])  # Fill missing values\n",
        "    print(X['Embarked'])\n",
        "    return X\n",
        "\n",
        "# Define ColumnTransformer\n",
        "preprocessor = ColumnTransformer(transformers=[\n",
        "    ('age_imputer', SimpleImputer(strategy='mean'), ['Age']),\n",
        "    ('embarked_imputer', FunctionTransformer(impute_embarked), ['Embarked']),\n",
        "    ('ohe', OneHotEncoder(), ['Sex','Embarked'])\n",
        "], remainder='passthrough')  # Pass through other columns like 'Fare'\n",
        "\n",
        "# Transform the data\n",
        "transformed_data = preprocessor.fit_transform(data)\n",
        "\n",
        "# Output shape and transformed data\n",
        "print(\"\\nTransformed Data Shape:\")\n",
        "print(transformed_data.shape)\n",
        "print(transformed_data)\n",
        "\n",
        "\n",
        "transformed_df = pd.DataFrame(transformed_data)\n",
        "print(\"\\nTransformed DataFrame:\")\n",
        "print(transformed_df)\n"
      ],
      "metadata": {
        "colab": {
          "base_uri": "https://localhost:8080/"
        },
        "id": "vcNKBPaJmV2D",
        "outputId": "ac29cc3a-0b13-471f-d08f-e1e3a7919984"
      },
      "execution_count": 17,
      "outputs": [
        {
          "output_type": "stream",
          "name": "stdout",
          "text": [
            "Original DataFrame:\n",
            "    Age     Sex Embarked   Fare\n",
            "0  22.0    male        B   7.25\n",
            "1   NaN  female        B  71.83\n",
            "2  24.0  female        C   8.05\n",
            "3  22.0    male     None   7.25\n",
            "4   NaN  female        C  71.83\n",
            "5  24.0  female        S   8.05\n",
            "0    B\n",
            "1    B\n",
            "2    C\n",
            "3    B\n",
            "4    C\n",
            "5    S\n",
            "Name: Embarked, dtype: object\n",
            "\n",
            "Transformed Data Shape:\n",
            "(6, 9)\n",
            "[[22.0 'B' 0.0 1.0 1.0 0.0 0.0 0.0 7.25]\n",
            " [23.0 'B' 1.0 0.0 1.0 0.0 0.0 0.0 71.83]\n",
            " [24.0 'C' 1.0 0.0 0.0 1.0 0.0 0.0 8.05]\n",
            " [22.0 'B' 0.0 1.0 0.0 0.0 0.0 1.0 7.25]\n",
            " [23.0 'C' 1.0 0.0 0.0 1.0 0.0 0.0 71.83]\n",
            " [24.0 'S' 1.0 0.0 0.0 0.0 1.0 0.0 8.05]]\n",
            "\n",
            "Transformed DataFrame:\n",
            "      0  1    2    3    4    5    6    7      8\n",
            "0  22.0  B  0.0  1.0  1.0  0.0  0.0  0.0   7.25\n",
            "1  23.0  B  1.0  0.0  1.0  0.0  0.0  0.0  71.83\n",
            "2  24.0  C  1.0  0.0  0.0  1.0  0.0  0.0   8.05\n",
            "3  22.0  B  0.0  1.0  0.0  0.0  0.0  1.0   7.25\n",
            "4  23.0  C  1.0  0.0  0.0  1.0  0.0  0.0  71.83\n",
            "5  24.0  S  1.0  0.0  0.0  0.0  1.0  0.0   8.05\n"
          ]
        }
      ]
    },
    {
      "cell_type": "markdown",
      "source": [
        "# **Sklean Pipeline**"
      ],
      "metadata": {
        "id": "FduUyuJ7r7Ps"
      }
    },
    {
      "cell_type": "code",
      "source": [
        "import pandas as pd\n",
        "from sklearn.compose import ColumnTransformer\n",
        "from sklearn.impute import SimpleImputer\n",
        "from sklearn.preprocessing import FunctionTransformer, OneHotEncoder\n",
        "from sklearn.pipeline import Pipeline\n",
        "\n",
        "# Sample DataFrame\n",
        "data = pd.DataFrame({\n",
        "    'Age': [22, None, 24,22, None, 24],\n",
        "    'Sex': ['male', 'female', 'female','male', 'female', 'female'],\n",
        "    'Embarked': ['B', 'B', 'C', None, 'C','S'],\n",
        "    'Fare': [7.25, 71.83, 8.05,7.25, 71.83, 8.05]\n",
        "})\n",
        "\n",
        "print(\"Original DataFrame:\")\n",
        "print(data)\n",
        "\n",
        "# Custom function to impute 'Embarked'\n",
        "def impute_embarked(X):\n",
        "    X['Embarked'] = X['Embarked'].fillna(X['Embarked'].mode()[0])  # Fill missing values\n",
        "    print (X['Embarked'])\n",
        "    return X\n",
        "\n",
        "preprocessor = ColumnTransformer(transformers=[\n",
        "    ('age_imputer', SimpleImputer(strategy='mean'), ['Age']),\n",
        "    ('embarked_encoder', Pipeline(steps=[\n",
        "        ('imputer', FunctionTransformer(impute_embarked)),  # Impute Embarked first\n",
        "        ('onehot', OneHotEncoder())  # Then apply OneHotEncoder\n",
        "    ]), ['Embarked']),\n",
        "    ('ohe', OneHotEncoder(), ['Sex'])\n",
        "], remainder='passthrough')  # Pass through other columns like 'Fare'\n",
        "\n",
        "\n",
        "# Transform the data\n",
        "transformed_data = preprocessor.fit_transform(data)\n",
        "\n",
        "# Output shape and transformed data\n",
        "print(\"\\nTransformed Data Shape:\")\n",
        "print(transformed_data.shape)\n",
        "print(transformed_data)\n",
        "\n",
        "transformed_df = pd.DataFrame(transformed_data)\n",
        "print(\"\\nTransformed DataFrame:\")\n",
        "print(transformed_df)\n"
      ],
      "metadata": {
        "colab": {
          "base_uri": "https://localhost:8080/"
        },
        "id": "dPRNoA9DWCRV",
        "outputId": "6da89211-da85-4a5d-9e0f-6dfafc44feb0"
      },
      "execution_count": 16,
      "outputs": [
        {
          "output_type": "stream",
          "name": "stdout",
          "text": [
            "Original DataFrame:\n",
            "    Age     Sex Embarked   Fare\n",
            "0  22.0    male        B   7.25\n",
            "1   NaN  female        B  71.83\n",
            "2  24.0  female        C   8.05\n",
            "3  22.0    male     None   7.25\n",
            "4   NaN  female        C  71.83\n",
            "5  24.0  female        S   8.05\n",
            "0    B\n",
            "1    B\n",
            "2    C\n",
            "3    B\n",
            "4    C\n",
            "5    S\n",
            "Name: Embarked, dtype: object\n",
            "\n",
            "Transformed Data Shape:\n",
            "(6, 7)\n",
            "[[22.    1.    0.    0.    0.    1.    7.25]\n",
            " [23.    1.    0.    0.    1.    0.   71.83]\n",
            " [24.    0.    1.    0.    1.    0.    8.05]\n",
            " [22.    1.    0.    0.    0.    1.    7.25]\n",
            " [23.    0.    1.    0.    1.    0.   71.83]\n",
            " [24.    0.    0.    1.    1.    0.    8.05]]\n",
            "\n",
            "Transformed DataFrame:\n",
            "      0    1    2    3    4    5      6\n",
            "0  22.0  1.0  0.0  0.0  0.0  1.0   7.25\n",
            "1  23.0  1.0  0.0  0.0  1.0  0.0  71.83\n",
            "2  24.0  0.0  1.0  0.0  1.0  0.0   8.05\n",
            "3  22.0  1.0  0.0  0.0  0.0  1.0   7.25\n",
            "4  23.0  0.0  1.0  0.0  1.0  0.0  71.83\n",
            "5  24.0  0.0  0.0  1.0  1.0  0.0   8.05\n"
          ]
        }
      ]
    },
    {
      "cell_type": "markdown",
      "source": [
        "# Lab Task\n",
        "\n",
        "**Add Scaling preprocessing step using MinMacScaler function from sklearn.preprocessing module for Age and Fare Columns in the titanic dataset.**\n",
        "\n",
        "**Apply Feature Creation preprocessing step to create a Family Size feature which calculates Family Size for each Passenger using following Equation. FamilySize = SibSp + Parch + 1**\n",
        "\n",
        "**Use ColumnTransformer, FunctionTransformer and Pipeline features to preprocess the following dataset**\n",
        "\n",
        "https://www.kaggle.com/datasets/kamilpytlak/personal-key-indicators-of-heart-disease"
      ],
      "metadata": {
        "id": "Vu7nZz_DrFFY"
      }
    }
  ]
}